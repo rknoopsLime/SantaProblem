{
 "cells": [
  {
   "cell_type": "markdown",
   "metadata": {},
   "source": [
    "# Santa problem from Kaggle \n",
    "https://www.kaggle.com/c/traveling-santa-2018-prime-paths/data"
   ]
  },
  {
   "cell_type": "markdown",
   "metadata": {},
   "source": [
    "You are provided a list of cities and their coordinates in cities.csv. You must create the shortest possible path that visits all the cities. Your submission file is simply the ordered list in which you visit each city. Paths have the following constraints:\n",
    "\n",
    "Paths must start and end at the North Pole (CityId = 0)\n",
    "You must visit every city exactly once\n",
    "The distance between two paths is the 2D Euclidean distance, except...\n",
    "Every 10th step (stepNumber % 10 == 0) is 10% more lengthy unless coming from a prime CityId."
   ]
  },
  {
   "cell_type": "code",
   "execution_count": 1,
   "metadata": {},
   "outputs": [],
   "source": [
    "import pandas as pd\n",
    "import numpy as np\n",
    "import matplotlib.pyplot as plt\n",
    "\n",
    "from prime_numbers import return_list_of_primes, load_primes, save_primes, is_prime\n",
    "from path_functions import load_best, Generate_Random_Path, is_step_10, dist, length_of_path, dist_primes, length_difference, visualize_path, rearange_cities, MC_step, energy, save_best"
   ]
  },
  {
   "cell_type": "code",
   "execution_count": 2,
   "metadata": {},
   "outputs": [],
   "source": [
    "# Hyperparameters:\n",
    "beta = 100 #inverse temperature\n",
    "\n",
    "# If want to save time\n",
    "initial_path_length = 447882971.602762 #length of initial full path initiated as range(1,len(cities))\n",
    "current_best_kaggle = 1514324.54"
   ]
  },
  {
   "cell_type": "code",
   "execution_count": 3,
   "metadata": {},
   "outputs": [
    {
     "data": {
      "text/html": [
       "<div>\n",
       "<style scoped>\n",
       "    .dataframe tbody tr th:only-of-type {\n",
       "        vertical-align: middle;\n",
       "    }\n",
       "\n",
       "    .dataframe tbody tr th {\n",
       "        vertical-align: top;\n",
       "    }\n",
       "\n",
       "    .dataframe thead th {\n",
       "        text-align: right;\n",
       "    }\n",
       "</style>\n",
       "<table border=\"1\" class=\"dataframe\">\n",
       "  <thead>\n",
       "    <tr style=\"text-align: right;\">\n",
       "      <th></th>\n",
       "      <th>CityId</th>\n",
       "      <th>X</th>\n",
       "      <th>Y</th>\n",
       "    </tr>\n",
       "  </thead>\n",
       "  <tbody>\n",
       "    <tr>\n",
       "      <th>0</th>\n",
       "      <td>0</td>\n",
       "      <td>316.836739</td>\n",
       "      <td>2202.340707</td>\n",
       "    </tr>\n",
       "    <tr>\n",
       "      <th>1</th>\n",
       "      <td>1</td>\n",
       "      <td>4377.405972</td>\n",
       "      <td>336.602082</td>\n",
       "    </tr>\n",
       "  </tbody>\n",
       "</table>\n",
       "</div>"
      ],
      "text/plain": [
       "   CityId            X            Y\n",
       "0       0   316.836739  2202.340707\n",
       "1       1  4377.405972   336.602082"
      ]
     },
     "execution_count": 3,
     "metadata": {},
     "output_type": "execute_result"
    }
   ],
   "source": [
    "prime_list = load_primes()\n",
    "cities = pd.read_csv('cities.csv')\n",
    "NumberOfCities = len(cities)\n",
    "cities.head(n=2)"
   ]
  },
  {
   "cell_type": "code",
   "execution_count": 4,
   "metadata": {
    "scrolled": true
   },
   "outputs": [],
   "source": [
    "#path = Generate_Random_Path(cities) # Think about saving these inits to a file for speed\n",
    "#path = range(1,len(cities))\n",
    "\n",
    "path, path_length = load_best()\n",
    "\n",
    "#path_length = length_of_path(path,cities,prime_list)\n",
    "#path_length = initial_path_length"
   ]
  },
  {
   "cell_type": "code",
   "execution_count": 5,
   "metadata": {},
   "outputs": [],
   "source": [
    "min_length = path_length\n",
    "min_path = np.copy(path)"
   ]
  },
  {
   "cell_type": "code",
   "execution_count": 6,
   "metadata": {},
   "outputs": [],
   "source": [
    "def do_MC(cities,batch_size,path,path_length,prime_list,beta,min_length,min_path):\n",
    "    for i in range(batch_size):\n",
    "        #timer function:\n",
    "        #if (i % (batch_size/10.) == 0):\n",
    "        #    print(str( (100 * i/batch_size) ) + \" percent complete --------- length = \" + str(path_length))\n",
    "        path, path_length = MC_step(cities,path,path_length,prime_list,beta)\n",
    "        if (path_length < min_length):\n",
    "            min_length = path_length\n",
    "            min_path = np.copy(path)\n",
    "    return path, path_length, min_length, min_path"
   ]
  },
  {
   "cell_type": "code",
   "execution_count": null,
   "metadata": {
    "scrolled": true
   },
   "outputs": [
    {
     "name": "stdout",
     "output_type": "stream",
     "text": [
      "started for 10 epochs\n",
      "Wall time: 55.6 s\n",
      "epoch:1/10------- path_length = 119168338--------- Difference: 28436\n",
      "Wall time: 53.9 s\n",
      "epoch:2/10------- path_length = 119147610--------- Difference: 20727\n",
      "Wall time: 56.9 s\n",
      "epoch:3/10------- path_length = 119120860--------- Difference: 26750\n",
      "Wall time: 55 s\n",
      "epoch:4/10------- path_length = 119097428--------- Difference: 23432\n",
      "Wall time: 54.9 s\n",
      "epoch:5/10------- path_length = 119074168--------- Difference: 23259\n",
      "Wall time: 55.1 s\n",
      "epoch:6/10------- path_length = 119056275--------- Difference: 17893\n",
      "Wall time: 56.3 s\n",
      "epoch:7/10------- path_length = 119038329--------- Difference: 17946\n",
      "Wall time: 54.3 s\n",
      "epoch:8/10------- path_length = 119017890--------- Difference: 20438\n"
     ]
    }
   ],
   "source": [
    "#batch_size = len(cities)\n",
    "minute = 11750\n",
    "ten_mins = 10*minute #100 000 is about 10 min\n",
    "hour = 6*ten_mins\n",
    "batch_size = minute\n",
    "epochs = 10\n",
    "SAVE = True\n",
    "SAVE_EVERY_EPOCH = False\n",
    "\n",
    "previous_length = path_length\n",
    "\n",
    "print('started for '+ str(epochs) + ' epochs')\n",
    "\n",
    "for i in range(epochs):\n",
    "    previous_epoch_length = path_length\n",
    "    %time path, path_length, min_length, min_path = do_MC(cities,batch_size,path,path_length,prime_list,beta,min_length,min_path)\n",
    "    print('epoch:'+str(i+1)+'/'+str(epochs) + '------- path_length = ' + str( path_length.astype(np.int) ) + '--------- Difference: '+ str( (previous_epoch_length - path_length).astype(np.int)) )\n",
    "    if SAVE_EVERY_EPOCH == True:\n",
    "        save_best(cities,min_path,min_length) \n",
    "    \n",
    "print('min length = ' + str(min_length.astype(np.int) ) + ',          previously:' + str(previous_length.astype(np.int)) + '------- Total difference:' + str(previous_length-min_length.astype(np.int)))\n",
    "print('cur length = '+str(path_length.astype(np.int)) )\n",
    "\n",
    "performance =  current_best_kaggle / min_length\n",
    "print('performance = ' + str(performance) + ',  (0 is inf bad, 1 is Kaggle best)')\n",
    "\n",
    "if SAVE:\n",
    "    save_best(cities,min_path,min_length)  \n"
   ]
  },
  {
   "cell_type": "code",
   "execution_count": null,
   "metadata": {},
   "outputs": [],
   "source": [
    "#visualize_path(cities,min_path)  #to do: make this useful again by visualizing first 100 steps or sorted"
   ]
  },
  {
   "cell_type": "code",
   "execution_count": 17,
   "metadata": {},
   "outputs": [],
   "source": [
    "#to do: is_in is very slow. should write a new vector prime_cities = [0, 1, 1, 0, 0,...]"
   ]
  },
  {
   "cell_type": "code",
   "execution_count": null,
   "metadata": {},
   "outputs": [],
   "source": [
    "#to do: try to initialize a path by looking for the shortest distance each time for a next step"
   ]
  },
  {
   "cell_type": "code",
   "execution_count": 138,
   "metadata": {},
   "outputs": [
    {
     "data": {
      "text/plain": [
       "array([ 0, 10,  6,  8,  4,  5, 11,  7,  1,  9,  3,  2])"
      ]
     },
     "execution_count": 138,
     "metadata": {},
     "output_type": "execute_result"
    }
   ],
   "source": [
    "\n",
    "find_some_short_path(cities,path)\n",
    "    "
   ]
  },
  {
   "cell_type": "code",
   "execution_count": 6,
   "metadata": {},
   "outputs": [],
   "source": [
    "\n",
    "def find_some_short_path(cities,path):\n",
    "#no prime stuff in here yet\n",
    "\n",
    "    temp_path = np.copy(path)\n",
    "    new_path = np.array([0])\n",
    "\n",
    "    while (len(temp_path) > 0 ):\n",
    "        print(len(temp_path))\n",
    "        distances = [dist(cities,new_path[-1],temps) for temps in temp_path]\n",
    "        new_path = np.append( new_path, temp_path[np.argmin(distances)] )\n",
    "        temp_path = np.delete( temp_path, np.argmin(distances)  )\n",
    "    return new_path"
   ]
  },
  {
   "cell_type": "code",
   "execution_count": null,
   "metadata": {},
   "outputs": [
    {
     "name": "stdout",
     "output_type": "stream",
     "text": [
      "197768\n"
     ]
    }
   ],
   "source": [
    "find_some_short_path(cities,path)"
   ]
  },
  {
   "cell_type": "code",
   "execution_count": 32,
   "metadata": {},
   "outputs": [
    {
     "name": "stdout",
     "output_type": "stream",
     "text": [
      "Wall time: 1min 37s\n"
     ]
    }
   ],
   "source": [
    "%time distances = [dist2(0,temps) for temps in path]"
   ]
  },
  {
   "cell_type": "code",
   "execution_count": null,
   "metadata": {},
   "outputs": [],
   "source": []
  }
 ],
 "metadata": {
  "kernelspec": {
   "display_name": "Python 3",
   "language": "python",
   "name": "python3"
  },
  "language_info": {
   "codemirror_mode": {
    "name": "ipython",
    "version": 3
   },
   "file_extension": ".py",
   "mimetype": "text/x-python",
   "name": "python",
   "nbconvert_exporter": "python",
   "pygments_lexer": "ipython3",
   "version": "3.6.7"
  }
 },
 "nbformat": 4,
 "nbformat_minor": 2
}
