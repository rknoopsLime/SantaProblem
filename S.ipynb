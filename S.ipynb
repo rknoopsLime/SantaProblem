{
 "cells": [
  {
   "cell_type": "markdown",
   "metadata": {},
   "source": [
    "# Santa problem from Kaggle \n",
    "https://www.kaggle.com/c/traveling-santa-2018-prime-paths/data"
   ]
  },
  {
   "cell_type": "markdown",
   "metadata": {},
   "source": [
    "You are provided a list of cities and their coordinates in cities.csv. You must create the shortest possible path that visits all the cities. Your submission file is simply the ordered list in which you visit each city. Paths have the following constraints:\n",
    "\n",
    "Paths must start and end at the North Pole (CityId = 0)\n",
    "You must visit every city exactly once\n",
    "The distance between two paths is the 2D Euclidean distance, except...\n",
    "Every 10th step (stepNumber % 10 == 0) is 10% more lengthy unless coming from a prime CityId."
   ]
  },
  {
   "cell_type": "code",
   "execution_count": 1,
   "metadata": {},
   "outputs": [],
   "source": [
    "import pandas as pd\n",
    "import numpy as np\n",
    "import matplotlib.pyplot as plt\n",
    "\n",
    "from prime_numbers import return_list_of_primes, load_primes, save_primes, is_prime\n",
    "from path_functions import Generate_Random_Path, is_step_10, dist, length_of_path, dist_primes, length_difference, visualize_path, rearange_cities, MC_step, energy, save_best"
   ]
  },
  {
   "cell_type": "code",
   "execution_count": 2,
   "metadata": {},
   "outputs": [],
   "source": [
    "# Hyperparameters:\n",
    "beta = 100 #inverse temperature\n",
    "\n",
    "# If want to save time\n",
    "initial_path_length = 447882971.602762 #length of initial full path initiated as range(1,len(cities))\n",
    "current_best_kaggle = 1514324.54"
   ]
  },
  {
   "cell_type": "code",
   "execution_count": 3,
   "metadata": {},
   "outputs": [
    {
     "data": {
      "text/html": [
       "<div>\n",
       "<style scoped>\n",
       "    .dataframe tbody tr th:only-of-type {\n",
       "        vertical-align: middle;\n",
       "    }\n",
       "\n",
       "    .dataframe tbody tr th {\n",
       "        vertical-align: top;\n",
       "    }\n",
       "\n",
       "    .dataframe thead th {\n",
       "        text-align: right;\n",
       "    }\n",
       "</style>\n",
       "<table border=\"1\" class=\"dataframe\">\n",
       "  <thead>\n",
       "    <tr style=\"text-align: right;\">\n",
       "      <th></th>\n",
       "      <th>CityId</th>\n",
       "      <th>X</th>\n",
       "      <th>Y</th>\n",
       "    </tr>\n",
       "  </thead>\n",
       "  <tbody>\n",
       "    <tr>\n",
       "      <th>0</th>\n",
       "      <td>0</td>\n",
       "      <td>316.836739</td>\n",
       "      <td>2202.340707</td>\n",
       "    </tr>\n",
       "    <tr>\n",
       "      <th>1</th>\n",
       "      <td>1</td>\n",
       "      <td>4377.405972</td>\n",
       "      <td>336.602082</td>\n",
       "    </tr>\n",
       "  </tbody>\n",
       "</table>\n",
       "</div>"
      ],
      "text/plain": [
       "   CityId            X            Y\n",
       "0       0   316.836739  2202.340707\n",
       "1       1  4377.405972   336.602082"
      ]
     },
     "execution_count": 3,
     "metadata": {},
     "output_type": "execute_result"
    }
   ],
   "source": [
    "prime_list = load_primes()\n",
    "cities = pd.read_csv('cities.csv')\n",
    "NumberOfCities = len(cities)\n",
    "cities.head(n=2)"
   ]
  },
  {
   "cell_type": "code",
   "execution_count": 4,
   "metadata": {},
   "outputs": [],
   "source": [
    "#during testing, only use 10 cities\n",
    "#3cities = cities[:12]\n",
    "#NumberOfCities = len(cities)\n",
    "#NumberOfCities"
   ]
  },
  {
   "cell_type": "code",
   "execution_count": 5,
   "metadata": {
    "scrolled": true
   },
   "outputs": [],
   "source": [
    "#path = Generate_Random_Path(cities) # Think about saving these inits to a file for speed\n",
    "path = range(1,len(cities))\n",
    "#path_length = length_of_path(path,cities,prime_list)\n",
    "path_length = initial_path_length"
   ]
  },
  {
   "cell_type": "code",
   "execution_count": 6,
   "metadata": {},
   "outputs": [],
   "source": [
    "min_length = path_length\n",
    "min_path = np.copy(path)"
   ]
  },
  {
   "cell_type": "code",
   "execution_count": 7,
   "metadata": {
    "scrolled": true
   },
   "outputs": [
    {
     "name": "stdout",
     "output_type": "stream",
     "text": [
      "0.0 percent complete\n",
      "10.0 percent complete\n",
      "20.0 percent complete\n",
      "30.0 percent complete\n",
      "40.0 percent complete\n",
      "50.0 percent complete\n",
      "60.0 percent complete\n",
      "70.0 percent complete\n",
      "80.0 percent complete\n",
      "90.0 percent complete\n",
      "min length = 446860169.3081996\n",
      "min path = [     1      2      3 ... 197766 197767 197768]\n",
      "cur length = 446860169.3081996\n",
      "cur path = [     1      2      3 ... 197766 197767 197768]\n",
      "performance = 0.003388810737695375,  (0 is inf bad, 1 is Kaggle best)\n"
     ]
    }
   ],
   "source": [
    "#batch_size = len(cities)\n",
    "batch_size = 1000\n",
    "\n",
    "for i in range(batch_size):\n",
    "    \n",
    "    #timer function:\n",
    "    if (i % (batch_size/10.) == 0):\n",
    "        print(str( (100 * i/batch_size) ) + \" percent complete\")\n",
    "    \n",
    "    path, path_length = MC_step(cities,path,path_length,prime_list,beta)\n",
    "    if (path_length < min_length):\n",
    "        min_length = path_length\n",
    "        min_path = np.copy(path)\n",
    "\n",
    "print('min length = ' + str(min_length) )\n",
    "print('min path = ' + str(min_path) ) \n",
    "\n",
    "print('cur length = '+str(path_length))\n",
    "print('cur path = '+str(path))\n",
    "\n",
    "performance =  current_best_kaggle / min_length\n",
    "print('performance = ' + str(performance) + ',  (0 is inf bad, 1 is Kaggle best)')"
   ]
  },
  {
   "cell_type": "code",
   "execution_count": null,
   "metadata": {},
   "outputs": [],
   "source": [
    "#visualize_path(cities,min_path) "
   ]
  },
  {
   "cell_type": "code",
   "execution_count": 8,
   "metadata": {},
   "outputs": [
    {
     "name": "stdout",
     "output_type": "stream",
     "text": [
      "saved as results/path_446860169.csv\n"
     ]
    }
   ],
   "source": [
    "save_best(cities,min_path,min_length)  #should also make option to load last or best"
   ]
  },
  {
   "cell_type": "code",
   "execution_count": null,
   "metadata": {},
   "outputs": [],
   "source": []
  }
 ],
 "metadata": {
  "kernelspec": {
   "display_name": "Python 3",
   "language": "python",
   "name": "python3"
  },
  "language_info": {
   "codemirror_mode": {
    "name": "ipython",
    "version": 3
   },
   "file_extension": ".py",
   "mimetype": "text/x-python",
   "name": "python",
   "nbconvert_exporter": "python",
   "pygments_lexer": "ipython3",
   "version": "3.7.0"
  }
 },
 "nbformat": 4,
 "nbformat_minor": 2
}
